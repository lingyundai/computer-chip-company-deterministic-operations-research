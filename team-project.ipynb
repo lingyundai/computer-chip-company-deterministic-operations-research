{
 "cells": [
  {
   "cell_type": "code",
   "execution_count": 1,
   "id": "b4937ee5",
   "metadata": {},
   "outputs": [
    {
     "name": "stdout",
     "output_type": "stream",
     "text": [
      "Set parameter Username\n",
      "Academic license - for non-commercial use only - expires 2025-03-25\n"
     ]
    }
   ],
   "source": [
    "# import packages\n",
    "import gurobipy as gp\n",
    "import pandas as pd\n",
    "\n",
    "# read excel sheets with pandas\n",
    "data = pd.ExcelFile('SuperChipData.xlsx')\n",
    "productionCapacityDf = pd.read_excel(data, 'Production Capacity')\n",
    "salesRegionDemandDf = pd.read_excel(data, 'Sales Region Demand')\n",
    "shippingCostsDf = pd.read_excel(data, 'Shipping Costs')\n",
    "productionCostsDf = pd.read_excel(data, 'Production Costs')\n",
    "\n",
    "# preparing for adding variables\n",
    "# total number of sales region j\n",
    "salesRegion = 23\n",
    "# total number of computer chip z\n",
    "computerChip = 30\n",
    "# [sales region, computer chip, yearly demand(thousands)]\n",
    "salesRegionDemand = salesRegionDemandDf.to_numpy()\n",
    "# [facility name, facility yearly production capacity(thousands)]\n",
    "productionCapacity = productionCapacityDf.to_numpy()\n",
    "# [facility, computer chip, production cost per chip ($)]\n",
    "productionCosts = productionCostsDf.to_numpy()\n",
    "# [facility, computer chip, sales region, shipping cost per chip($)]\n",
    "shippingCosts = shippingCostsDf.to_numpy()\n",
    "\n",
    "# initialize model\n",
    "m = gp.Model()\n",
    "# set objective function to be minimization\n",
    "m.modelSense = gp.GRB.MINIMIZE\n",
    "\n",
    "# declare variables and add them to model\n",
    "# facility set S\n",
    "S = {\"Alexandria\", \"Richmond\", \"Norfolk\", \"Roanoke\", \"Charlottesville\"}\n",
    "\n",
    "# Djz = z chip yearly demand in sales region j (thousands unit)\n",
    "D = {}\n",
    "for d in salesRegionDemand:\n",
    "        # (j, z) = demand in j z\n",
    "        D[d[0], d[1]] = d[2]\n",
    "\n",
    "# Ci = yearly chip production capacity in facility i (thousands unit)\n",
    "C = {}\n",
    "for c in productionCapacity:\n",
    "     # i = production capacity in i\n",
    "     C[c[0]] = c[1]\n",
    "\n",
    "# Piz = production cost per z chip in facility i ($)\n",
    "P = {}\n",
    "for p in productionCosts:\n",
    "     # (i, z) = production cost in i, z\n",
    "     P[p[0], p[1]] = p[2]\n",
    "\n",
    "# Sijz = shipping cost per z chip from facility i to sales region j ($)\n",
    "S = {}\n",
    "for s in shippingCosts:\n",
    "     # (i, j, z) = shipping cost per z from i to j\n",
    "     S[s[0], s[2], s[1]] = s[3]\n",
    "\n",
    "# Xijz = amount of z chips shipped from facility i to sales region j (unit)\n",
    "X = {}\n",
    "# iterate through facility set, sales region numbers and computer chip numbers\n",
    "for i in S:\n",
    "    for j in range(1, salesRegion + 1):\n",
    "        for z in range(1, computerChip + 1):\n",
    "            X[i, j, z] = m.addVar(lb = 0, vtype = gp.GRB.CONTINUOUS, name = \"X\" + \n",
    "                                  str(i) + str(j) + str(z))\n",
    "# Yiz = amount of z chips produced in facility i (unit)\n",
    "Y = {}\n",
    "for i in S:\n",
    "    for z in range(1, computerChip + 1):\n",
    "        Y[i, z] = m.addVar(lb = 0, vtype = gp.GRB.CONTINUOUS, name = \"Y\" + str(i) +\n",
    "                           str(z))\n",
    "\n",
    "# notify model the changes\n",
    "m.update()\n",
    "\n",
    "\n",
    "\n"
   ]
  },
  {
   "cell_type": "code",
   "execution_count": null,
   "id": "f055a913",
   "metadata": {},
   "outputs": [],
   "source": []
  }
 ],
 "metadata": {
  "kernelspec": {
   "display_name": "Python 3",
   "language": "python",
   "name": "python3"
  },
  "language_info": {
   "codemirror_mode": {
    "name": "ipython",
    "version": 3
   },
   "file_extension": ".py",
   "mimetype": "text/x-python",
   "name": "python",
   "nbconvert_exporter": "python",
   "pygments_lexer": "ipython3",
   "version": "3.11.5"
  }
 },
 "nbformat": 4,
 "nbformat_minor": 5
}
