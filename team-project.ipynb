{
 "cells": [
  {
   "cell_type": "code",
   "execution_count": 1,
   "id": "b4937ee5",
   "metadata": {},
   "outputs": [
    {
     "name": "stdout",
     "output_type": "stream",
     "text": [
      "[[ 1.    1.    1.18]\n",
      " [ 1.    2.    2.17]\n",
      " [ 1.    3.    2.82]\n",
      " ...\n",
      " [23.   28.    2.55]\n",
      " [23.   29.    1.57]\n",
      " [23.   30.    2.87]]\n",
      "Set parameter Username\n",
      "Academic license - for non-commercial use only - expires 2025-03-25\n"
     ]
    }
   ],
   "source": [
    "import gurobipy as gp\n",
    "import pandas as pd\n",
    "\n",
    "# read excel sheets\n",
    "data = pd.ExcelFile('SuperChipData.xlsx')\n",
    "productionCapacityDf = pd.read_excel(data, 'Production Capacity')\n",
    "salesRegionDemandDf = pd.read_excel(data, 'Sales Region Demand')\n",
    "shippingCostsDf = pd.read_excel(data, 'Shipping Costs')\n",
    "ProductionCostsDf = pd.read_excel(data, 'Production Costs')\n",
    "print(salesRegionDemandDf.to_numpy())\n",
    "\n",
    "# facility S\n",
    "facilitySet = {\"Alexandria\", \"Richmond\", \"Norfolk\", \"Roanoke\", \"Charlottesville\"}\n",
    "# sales region j\n",
    "salesRegion = 23\n",
    "# computer chip z\n",
    "computerChip = 30\n",
    "# production capacity C\n",
    "capacity = [348, 312, 294, 216, 204]\n",
    "# sales region demand D\n",
    "demand = []\n",
    "        \n",
    "        \n",
    "\n",
    "m = gp.Model()\n",
    "m.modelSense = gp.GRB.MINIMIZE"
   ]
  },
  {
   "cell_type": "code",
   "execution_count": null,
   "id": "f055a913",
   "metadata": {},
   "outputs": [],
   "source": []
  }
 ],
 "metadata": {
  "kernelspec": {
   "display_name": "Python 3 (ipykernel)",
   "language": "python",
   "name": "python3"
  },
  "language_info": {
   "codemirror_mode": {
    "name": "ipython",
    "version": 3
   },
   "file_extension": ".py",
   "mimetype": "text/x-python",
   "name": "python",
   "nbconvert_exporter": "python",
   "pygments_lexer": "ipython3",
   "version": "3.11.5"
  }
 },
 "nbformat": 4,
 "nbformat_minor": 5
}
